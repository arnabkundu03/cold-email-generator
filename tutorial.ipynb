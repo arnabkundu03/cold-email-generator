{
 "cells": [
  {
   "cell_type": "code",
   "execution_count": 1,
   "id": "72f997ca-85d7-4af3-a2be-227577ba3801",
   "metadata": {},
   "outputs": [
    {
     "name": "stdout",
     "output_type": "stream",
     "text": [
      "Neil Armstrong landed first on the moon on July 20, 1969, as part of the Apollo 11 mission. He stepped out of the lunar module Eagle and onto the moon's surface, famously declaring, \"That's one small step for man, one giant leap for mankind.\"\n"
     ]
    }
   ],
   "source": [
    "from langchain_groq import ChatGroq\n",
    "\n",
    "llm = ChatGroq(\n",
    "    model=\"llama-3.1-8b-instant\",\n",
    "    temperature=0.0,\n",
    "    max_retries=2,\n",
    "    groq_api_key='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'\n",
    ")\n",
    "\n",
    "response = llm.invoke(\"Who landed first on the moon?\")\n",
    "print(response.content)"
   ]
  },
  {
   "cell_type": "code",
   "execution_count": null,
   "id": "242b440f-46aa-460a-970d-c1cbc05321d9",
   "metadata": {},
   "outputs": [],
   "source": []
  }
 ],
 "metadata": {
  "kernelspec": {
   "display_name": "Python 3 (ipykernel)",
   "language": "python",
   "name": "python3"
  },
  "language_info": {
   "codemirror_mode": {
    "name": "ipython",
    "version": 3
   },
   "file_extension": ".py",
   "mimetype": "text/x-python",
   "name": "python",
   "nbconvert_exporter": "python",
   "pygments_lexer": "ipython3",
   "version": "3.11.5"
  }
 },
 "nbformat": 4,
 "nbformat_minor": 5
}
